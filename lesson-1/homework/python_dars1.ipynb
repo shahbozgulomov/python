{
 "cells": [
  {
   "cell_type": "code",
   "execution_count": 1,
   "id": "07b82b15",
   "metadata": {},
   "outputs": [
    {
     "data": {
      "text/plain": [
       "8.0"
      ]
     },
     "execution_count": 1,
     "metadata": {},
     "output_type": "execute_result"
    }
   ],
   "source": [
    "number1 = 2.0\n",
    "number2 = 3\n",
    "number4 = number1**number2\n",
    "number4"
   ]
  },
  {
   "cell_type": "code",
   "execution_count": null,
   "id": "19f5414e",
   "metadata": {},
   "outputs": [
    {
     "name": "stdout",
     "output_type": "stream",
     "text": [
      "the perimeter of the square is 20.0\n",
      "the square of the square is 25.0\n"
     ]
    }
   ],
   "source": [
    "#Given a side of square. Find its perimeter and area\n",
    "side = float(input(\"the side of the side: \"))\n",
    "perimeter = side * 4\n",
    "area = side * side \n",
    "print(f'the perimeter of the square is {perimeter}')\n",
    "print(f'the square of the square is {area}')"
   ]
  },
  {
   "cell_type": "code",
   "execution_count": 5,
   "id": "43bf7893",
   "metadata": {},
   "outputs": [
    {
     "name": "stdout",
     "output_type": "stream",
     "text": [
      "the lenhth of the circle is 43.96\n"
     ]
    }
   ],
   "source": [
    "#Given diameter of circle. Find its length.\n",
    "diameter = float(input(\"the diameter of the circle is\"))\n",
    "length = diameter*3.14\n",
    "print(f'the lenhth of the circle is {length}')"
   ]
  },
  {
   "cell_type": "code",
   "execution_count": 6,
   "id": "4c428cd5",
   "metadata": {},
   "outputs": [
    {
     "name": "stdout",
     "output_type": "stream",
     "text": [
      "the mean of a and b is 3.0\n"
     ]
    }
   ],
   "source": [
    "#Given two numbers a and b. Find their mean\n",
    "a = float(input(\"type the value of a:\"))\n",
    "b = float(input(\"type the value of b:\"))\n",
    "mean = (a+b)/2\n",
    "print(f'the mean of a and b is {mean}')"
   ]
  },
  {
   "cell_type": "code",
   "execution_count": 11,
   "id": "151dd6cf",
   "metadata": {},
   "outputs": [
    {
     "name": "stdout",
     "output_type": "stream",
     "text": [
      "12.0\n",
      "35.0\n",
      "25.0\n",
      "49.0\n"
     ]
    }
   ],
   "source": [
    "#Given two numbers a and b. Find their sum, product and square of each number.\n",
    "a = float(input(\"the value of a :\"))\n",
    "b = float(input(\"the value of b :\"))\n",
    "sum = a+b\n",
    "product = a*b\n",
    "square_a = a*a\n",
    "square_b = b**2\n",
    "print(sum)\n",
    "print(product)\n",
    "print(square_a)\n",
    "print(square_b)"
   ]
  }
 ],
 "metadata": {
  "kernelspec": {
   "display_name": "Python 3",
   "language": "python",
   "name": "python3"
  },
  "language_info": {
   "codemirror_mode": {
    "name": "ipython",
    "version": 3
   },
   "file_extension": ".py",
   "mimetype": "text/x-python",
   "name": "python",
   "nbconvert_exporter": "python",
   "pygments_lexer": "ipython3",
   "version": "3.12.9"
  }
 },
 "nbformat": 4,
 "nbformat_minor": 5
}
