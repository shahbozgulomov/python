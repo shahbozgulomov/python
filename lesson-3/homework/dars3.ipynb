{
 "cells": [
  {
   "cell_type": "code",
   "execution_count": 1,
   "id": "a0466d23",
   "metadata": {},
   "outputs": [],
   "source": [
    "fruit_list = ['apple','banana','kiwi','grapefruit','melon']"
   ]
  },
  {
   "cell_type": "code",
   "execution_count": 2,
   "id": "59fb3c82",
   "metadata": {},
   "outputs": [
    {
     "data": {
      "text/plain": [
       "'kiwi'"
      ]
     },
     "execution_count": 2,
     "metadata": {},
     "output_type": "execute_result"
    }
   ],
   "source": [
    "fruit_list[2]"
   ]
  },
  {
   "cell_type": "code",
   "execution_count": 3,
   "id": "873eb8ee",
   "metadata": {},
   "outputs": [
    {
     "name": "stdout",
     "output_type": "stream",
     "text": [
      "[1, 2, 3, 4, 5, 6]\n"
     ]
    }
   ],
   "source": [
    "list1 = [1,2,3]\n",
    "list2 = [4,5,6]\n",
    "concatenated_list = list1 + list2\n",
    "print(concatenated_list)"
   ]
  },
  {
   "cell_type": "code",
   "execution_count": 9,
   "id": "fff3115d",
   "metadata": {},
   "outputs": [
    {
     "name": "stdout",
     "output_type": "stream",
     "text": [
      "[1, 4, 6]\n"
     ]
    }
   ],
   "source": [
    "list3 = [1,2,3,4,5,6]\n",
    "list4 = [list3[0],list3[3],list3[-1]]\n",
    "print(list4)\n"
   ]
  },
  {
   "cell_type": "code",
   "execution_count": 12,
   "id": "0a2b72aa",
   "metadata": {},
   "outputs": [
    {
     "data": {
      "text/plain": [
       "('spiderman 1', 'spiderman 2', 'spiderman 3', 'rocky 1', 'rocky2')"
      ]
     },
     "execution_count": 12,
     "metadata": {},
     "output_type": "execute_result"
    }
   ],
   "source": [
    "movie_list = ['spiderman 1','spiderman 2','spiderman 3','rocky 1','rocky2']\n",
    "movie_tuple = tuple(movie_list)\n",
    "movie_tuple"
   ]
  },
  {
   "cell_type": "code",
   "execution_count": 13,
   "id": "a822d311",
   "metadata": {},
   "outputs": [
    {
     "name": "stdout",
     "output_type": "stream",
     "text": [
      "there is Paris in the list\n"
     ]
    }
   ],
   "source": [
    "list_cities = ['london','paris','birmingham','amsterdam']\n",
    "if list_cities.index('paris') > 0:\n",
    "    print('there is Paris in the list')"
   ]
  },
  {
   "cell_type": "code",
   "execution_count": 15,
   "id": "c8ea15e2",
   "metadata": {},
   "outputs": [
    {
     "data": {
      "text/plain": [
       "[1, 2, 3, 4, 1, 2, 3, 4]"
      ]
     },
     "execution_count": 15,
     "metadata": {},
     "output_type": "execute_result"
    }
   ],
   "source": [
    "list = [1,2,3,4]\n",
    "list += list\n",
    "list"
   ]
  },
  {
   "cell_type": "markdown",
   "id": "3b37cf93",
   "metadata": {},
   "source": [
    "7.swap places"
   ]
  },
  {
   "cell_type": "code",
   "execution_count": 18,
   "id": "2bf1d86d",
   "metadata": {},
   "outputs": [
    {
     "data": {
      "text/plain": [
       "[6, 2, 3, 4, 5, 1]"
      ]
     },
     "execution_count": 18,
     "metadata": {},
     "output_type": "execute_result"
    }
   ],
   "source": [
    "list = [1,2,3,4,5,6]\n",
    "list[0],list[-1] = list[-1] , list[0]\n",
    "list"
   ]
  },
  {
   "cell_type": "markdown",
   "id": "2a5be3fb",
   "metadata": {},
   "source": [
    "8"
   ]
  },
  {
   "cell_type": "code",
   "execution_count": 19,
   "id": "064c26cf",
   "metadata": {},
   "outputs": [
    {
     "data": {
      "text/plain": [
       "(4, 5, 6, 7)"
      ]
     },
     "execution_count": 19,
     "metadata": {},
     "output_type": "execute_result"
    }
   ],
   "source": [
    "tuple = (1,2,3,4,5,6,7,8,9,10)\n",
    "tuple[3:7]"
   ]
  },
  {
   "cell_type": "markdown",
   "id": "65ccd5d4",
   "metadata": {},
   "source": [
    "9"
   ]
  },
  {
   "cell_type": "code",
   "execution_count": 21,
   "id": "e99dd31d",
   "metadata": {},
   "outputs": [
    {
     "data": {
      "text/plain": [
       "2"
      ]
     },
     "execution_count": 21,
     "metadata": {},
     "output_type": "execute_result"
    }
   ],
   "source": [
    "list_colours = ['blue','blue','red','red']\n",
    "list_colours.count('blue')"
   ]
  },
  {
   "cell_type": "markdown",
   "id": "953297c1",
   "metadata": {},
   "source": [
    "10"
   ]
  },
  {
   "cell_type": "code",
   "execution_count": 23,
   "id": "9db20060",
   "metadata": {},
   "outputs": [
    {
     "data": {
      "text/plain": [
       "2"
      ]
     },
     "execution_count": 23,
     "metadata": {},
     "output_type": "execute_result"
    }
   ],
   "source": [
    "tuple_animals = ('cat','leopard','lion','snake')\n",
    "tuple_animals.index('lion')"
   ]
  },
  {
   "cell_type": "markdown",
   "id": "5c8f251b",
   "metadata": {},
   "source": [
    "11"
   ]
  },
  {
   "cell_type": "code",
   "execution_count": 25,
   "id": "90e40f9c",
   "metadata": {},
   "outputs": [
    {
     "data": {
      "text/plain": [
       "(1, 2, 3, 4, 5, 6)"
      ]
     },
     "execution_count": 25,
     "metadata": {},
     "output_type": "execute_result"
    }
   ],
   "source": [
    "tuple1= (1,2,3)\n",
    "tuple2 = (4,5,6)\n",
    "tuple3 = tuple1 + tuple2\n",
    "tuple3"
   ]
  },
  {
   "cell_type": "markdown",
   "id": "97e380b9",
   "metadata": {},
   "source": [
    "12 lenth"
   ]
  },
  {
   "cell_type": "code",
   "execution_count": 29,
   "id": "cb671391",
   "metadata": {},
   "outputs": [
    {
     "name": "stdout",
     "output_type": "stream",
     "text": [
      "6\n",
      "10\n"
     ]
    }
   ],
   "source": [
    "list\n",
    "tuple\n",
    "print(len(list))\n",
    "print(len(tuple))"
   ]
  },
  {
   "cell_type": "markdown",
   "id": "094a9e1c",
   "metadata": {},
   "source": [
    "13 tuple to list"
   ]
  },
  {
   "cell_type": "code",
   "execution_count": 36,
   "id": "1274ccd8",
   "metadata": {},
   "outputs": [
    {
     "ename": "TypeError",
     "evalue": "'list' object is not callable",
     "output_type": "error",
     "traceback": [
      "\u001b[31m---------------------------------------------------------------------------\u001b[39m",
      "\u001b[31mTypeError\u001b[39m                                 Traceback (most recent call last)",
      "\u001b[36mCell\u001b[39m\u001b[36m \u001b[39m\u001b[32mIn[36]\u001b[39m\u001b[32m, line 2\u001b[39m\n\u001b[32m      1\u001b[39m my_tuple = (\u001b[32m1\u001b[39m,\u001b[32m2\u001b[39m,\u001b[32m3\u001b[39m,\u001b[32m4\u001b[39m)\n\u001b[32m----> \u001b[39m\u001b[32m2\u001b[39m my_list = \u001b[38;5;28;43mlist\u001b[39;49m\u001b[43m(\u001b[49m\u001b[43mmy_tuple\u001b[49m\u001b[43m)\u001b[49m\n\u001b[32m      3\u001b[39m \u001b[38;5;28mprint\u001b[39m(my_list)\n",
      "\u001b[31mTypeError\u001b[39m: 'list' object is not callable"
     ]
    }
   ],
   "source": [
    "my_tuple = (1,2,3,4)\n",
    "my_list = list(my_tuple)\n",
    "print(my_list)\n"
   ]
  },
  {
   "cell_type": "markdown",
   "id": "6f5ae61b",
   "metadata": {},
   "source": [
    "max and min in tuples"
   ]
  },
  {
   "cell_type": "code",
   "execution_count": 39,
   "id": "1bd394d9",
   "metadata": {},
   "outputs": [
    {
     "name": "stdout",
     "output_type": "stream",
     "text": [
      "5\n",
      "1\n"
     ]
    }
   ],
   "source": [
    "tuple = (1,2,3,4,5)\n",
    "max_tuple = max(tuple)\n",
    "min_tuple = min(tuple)\n",
    "print(max_tuple)\n",
    "print(min_tuple)"
   ]
  },
  {
   "cell_type": "code",
   "execution_count": 51,
   "id": "ccc45920",
   "metadata": {},
   "outputs": [
    {
     "name": "stdout",
     "output_type": "stream",
     "text": [
      "<reversed object at 0x000001E5620DF1F0>\n"
     ]
    }
   ],
   "source": [
    "tuple1 = ('me','and','you')\n",
    "\n",
    "a = (reversed(tuple1))\n",
    "print(a)\n"
   ]
  },
  {
   "cell_type": "markdown",
   "id": "087fa193",
   "metadata": {},
   "source": [
    "# Homework: List and Tuple Exercises\n",
    "\n",
    "## 1. Create and Access List Elements\n",
    "Create a list containing five different fruits and print the third fruit.\n",
    "\n",
    "## 2. Concatenate Two Lists\n",
    "Create two lists of numbers and concatenate them into a single list.\n",
    "\n",
    "## 3. Extract Elements from a List\n",
    "Given a list of numbers, extract the first, middle, and last elements and store them in a new list.\n",
    "\n",
    "## 4. Convert List to Tuple\n",
    "Create a list of your five favorite movies and convert it into a tuple.\n",
    "\n",
    "## 5. Check Element in a List\n",
    "Given a list of cities, check if \"Paris\" is in the list and print the result.\n",
    "\n",
    "## 6. Duplicate a List Without Using Loops\n",
    "Create a list of numbers and duplicate it without using loops.\n",
    "\n",
    "## 7. Swap First and Last Elements of a List\n",
    "Given a list of numbers, swap the first and last elements.\n",
    "\n",
    "## 8. Slice a Tuple\n",
    "Create a tuple of numbers from 1 to 10 and print a slice from index 3 to 7.\n",
    "\n",
    "## 9. Count Occurrences in a List\n",
    "Create a list of colors and count how many times \"blue\" appears in the list.\n",
    "\n",
    "## 10. Find the Index of an Element in a Tuple\n",
    "Given a tuple of animals, find the index of \"lion\".\n",
    "\n",
    "## 11. Merge Two Tuples\n",
    "Create two tuples of numbers and merge them into a single tuple.\n",
    "\n",
    "## 12. Find the Length of a List and Tuple\n",
    "Given a list and a tuple, find and print their lengths.\n",
    "\n",
    "## 13. Convert Tuple to List\n",
    "Create a tuple of five numbers and convert it into a list.\n",
    "\n",
    "## 14. Find Maximum and Minimum in a Tuple\n",
    "Given a tuple of numbers, find and print the maximum and minimum values.\n",
    "\n",
    "## 15. Reverse a Tuple\n",
    "Create a tuple of words and print it in reverse order.\n"
   ]
  }
 ],
 "metadata": {
  "kernelspec": {
   "display_name": "Python 3",
   "language": "python",
   "name": "python3"
  },
  "language_info": {
   "codemirror_mode": {
    "name": "ipython",
    "version": 3
   },
   "file_extension": ".py",
   "mimetype": "text/x-python",
   "name": "python",
   "nbconvert_exporter": "python",
   "pygments_lexer": "ipython3",
   "version": "3.12.9"
  }
 },
 "nbformat": 4,
 "nbformat_minor": 5
}
